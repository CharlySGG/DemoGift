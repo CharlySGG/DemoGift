{
 "cells": [
  {
   "cell_type": "markdown",
   "id": "7e8d29ed",
   "metadata": {},
   "source": [
    "# A01 Python\n",
    "\n",
    "## INSTRUCCION\n",
    "\n",
    "1. Genera una lista de 100 elementos con múltiplos de 3. E.g. [3, 6, 9, ...]\n",
    "\n",
    "2. Toma el archivo datosPE.xlsx y calcula el índice de masa corporal de cada persona.\n",
    "\n",
    "3. Toma el archivo datosCT.xlsx y calcula:\n",
    "    - La utilidad (Ingreso - Gasto)\n",
    "\n",
    "    - Encuentra el promedio de Gastos en los meses que la Utilidad fue negativa\n",
    "\n",
    "    - Encuentra los ingresos totales del año"
   ]
  },
  {
   "cell_type": "markdown",
   "id": "8d94898a",
   "metadata": {},
   "source": [
    "## ACTIVIDAD"
   ]
  },
  {
   "cell_type": "markdown",
   "id": "535d7b25",
   "metadata": {},
   "source": [
    "### Lista"
   ]
  },
  {
   "cell_type": "code",
   "execution_count": 12,
   "id": "85c504aa",
   "metadata": {},
   "outputs": [
    {
     "name": "stdout",
     "output_type": "stream",
     "text": [
      "3\n",
      "6\n",
      "9\n",
      "12\n",
      "15\n",
      "18\n",
      "21\n",
      "24\n",
      "27\n",
      "30\n",
      "33\n",
      "36\n",
      "39\n",
      "42\n",
      "45\n",
      "48\n",
      "51\n",
      "54\n",
      "57\n",
      "60\n",
      "63\n",
      "66\n",
      "69\n",
      "72\n",
      "75\n",
      "78\n",
      "81\n",
      "84\n",
      "87\n",
      "90\n",
      "93\n",
      "96\n",
      "99\n",
      "102\n",
      "105\n",
      "108\n",
      "111\n",
      "114\n",
      "117\n",
      "120\n",
      "123\n",
      "126\n",
      "129\n",
      "132\n",
      "135\n",
      "138\n",
      "141\n",
      "144\n",
      "147\n",
      "150\n",
      "153\n",
      "156\n",
      "159\n",
      "162\n",
      "165\n",
      "168\n",
      "171\n",
      "174\n",
      "177\n",
      "180\n",
      "183\n",
      "186\n",
      "189\n",
      "192\n",
      "195\n",
      "198\n",
      "201\n",
      "204\n",
      "207\n",
      "210\n",
      "213\n",
      "216\n",
      "219\n",
      "222\n",
      "225\n",
      "228\n",
      "231\n",
      "234\n",
      "237\n",
      "240\n",
      "243\n",
      "246\n",
      "249\n",
      "252\n",
      "255\n",
      "258\n",
      "261\n",
      "264\n",
      "267\n",
      "270\n",
      "273\n",
      "276\n",
      "279\n",
      "282\n",
      "285\n",
      "288\n",
      "291\n",
      "294\n",
      "297\n",
      "300\n"
     ]
    }
   ],
   "source": [
    "for i in range (3,301,3):\n",
    "    print(i)"
   ]
  },
  {
   "cell_type": "markdown",
   "id": "8a0b9596",
   "metadata": {},
   "source": [
    "### Indice de masa corporal (IMC)"
   ]
  },
  {
   "cell_type": "code",
   "execution_count": 8,
   "id": "00ab4c7e",
   "metadata": {},
   "outputs": [
    {
     "data": {
      "text/plain": [
       "0     47.517730\n",
       "1     54.098361\n",
       "2     45.263158\n",
       "3     71.515152\n",
       "4     65.269461\n",
       "        ...    \n",
       "95    59.060403\n",
       "96    63.636364\n",
       "97    60.509554\n",
       "98    37.888199\n",
       "99    66.049383\n",
       "Name: IMC, Length: 100, dtype: float64"
      ]
     },
     "execution_count": 8,
     "metadata": {},
     "output_type": "execute_result"
    }
   ],
   "source": [
    "import pandas as pd\n",
    "\n",
    "lista= pd.read_excel(\"C:\\\\Users\\\\Admin\\\\Documents\\\\ITESO\\\\6°Semestre\\\\Simulación matematica\\\\Semana 2\\\\Actividad 1\\\\datosPE.xlsx\")\n",
    "lista[\"IMC\"]=lista[\"Peso\"]/lista[\"Estatura\"]\n",
    "lista[\"IMC\"]"
   ]
  },
  {
   "cell_type": "markdown",
   "id": "4879ef45",
   "metadata": {},
   "source": [
    "### Utilidad"
   ]
  },
  {
   "cell_type": "code",
   "execution_count": 19,
   "id": "03919fba",
   "metadata": {},
   "outputs": [
    {
     "data": {
      "text/plain": [
       "310"
      ]
     },
     "execution_count": 19,
     "metadata": {},
     "output_type": "execute_result"
    }
   ],
   "source": [
    "lista2= pd.read_excel(\"C:\\\\Users\\\\Admin\\\\Documents\\\\ITESO\\\\6°Semestre\\\\Simulación matematica\\\\Semana 2\\\\Actividad 1\\\\datosCT.xlsx\")\n",
    "Utilidad=lista2[\"Ingreso\"].sum()-lista2[\"Gasto\"].sum()\n",
    "Utilidad"
   ]
  },
  {
   "cell_type": "markdown",
   "id": "5841526c",
   "metadata": {},
   "source": [
    "### Promedio de gastos"
   ]
  },
  {
   "cell_type": "code",
   "execution_count": 51,
   "id": "6235ea3d",
   "metadata": {},
   "outputs": [
    {
     "data": {
      "text/plain": [
       "2517.1428571428573"
      ]
     },
     "execution_count": 51,
     "metadata": {},
     "output_type": "execute_result"
    }
   ],
   "source": [
    "lista2[\"Utilidad\"]=lista2[\"Ingreso\"]-lista2[\"Gasto\"]\n",
    "lista3=[]\n",
    "for i in range(len(lista2[\"Utilidad\"])):\n",
    "    if lista2[\"Utilidad\"][i]<0:\n",
    "        lista3.append(lista2[\"Gasto\"][i])\n",
    "   \n",
    "import numpy as np   \n",
    "P=np.mean(lista3)\n",
    "P\n"
   ]
  },
  {
   "cell_type": "markdown",
   "id": "cc32f1c2",
   "metadata": {},
   "source": [
    "### Ingresos totales"
   ]
  },
  {
   "cell_type": "code",
   "execution_count": 15,
   "id": "69c68244",
   "metadata": {},
   "outputs": [
    {
     "data": {
      "text/plain": [
       "28020"
      ]
     },
     "execution_count": 15,
     "metadata": {},
     "output_type": "execute_result"
    }
   ],
   "source": [
    "IT=lista2[\"Ingreso\"].sum()\n",
    "IT"
   ]
  }
 ],
 "metadata": {
  "kernelspec": {
   "display_name": "Python 3 (ipykernel)",
   "language": "python",
   "name": "python3"
  },
  "language_info": {
   "codemirror_mode": {
    "name": "ipython",
    "version": 3
   },
   "file_extension": ".py",
   "mimetype": "text/x-python",
   "name": "python",
   "nbconvert_exporter": "python",
   "pygments_lexer": "ipython3",
   "version": "3.9.7"
  }
 },
 "nbformat": 4,
 "nbformat_minor": 5
}
