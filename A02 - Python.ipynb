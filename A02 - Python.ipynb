{
 "cells": [
  {
   "cell_type": "markdown",
   "metadata": {},
   "source": [
    "# Ejercicios de optimización escalar"
   ]
  },
  {
   "cell_type": "markdown",
   "metadata": {},
   "source": [
    "**Para la siguientes funciones encuentre los puntos críticos, grafique y diga si éste se trata de un máximo o mínimo, local o global.**"
   ]
  },
  {
   "cell_type": "markdown",
   "metadata": {},
   "source": [
    "$f(x)=1260+117x-9x^2$"
   ]
  },
  {
   "cell_type": "code",
   "execution_count": 2,
   "metadata": {},
   "outputs": [],
   "source": [
    "#Importar librerias\n",
    "import numpy as np\n",
    "import sympy as sp\n",
    "import matplotlib.pyplot as plt\n",
    "\n",
    "#Todas las graficas hacerlas en linea\n",
    "%matplotlib inline "
   ]
  },
  {
   "cell_type": "markdown",
   "metadata": {},
   "source": [
    "## Graficando"
   ]
  },
  {
   "cell_type": "code",
   "execution_count": 66,
   "metadata": {
    "scrolled": false
   },
   "outputs": [
    {
     "data": {
      "text/plain": [
       "[<matplotlib.lines.Line2D at 0x1f59b9bd880>]"
      ]
     },
     "execution_count": 66,
     "metadata": {},
     "output_type": "execute_result"
    },
    {
     "data": {
      "image/png": "[encoded data removed]",
      "text/plain": [
       "<Figure size 432x288 with 1 Axes>"
      ]
     },
     "metadata": {
      "needs_background": "light"
     },
     "output_type": "display_data"
    }
   ],
   "source": [
    "#Declaramos variables\n",
    "x1=sp.var(\"x\")\n",
    "\n",
    "#Definimos nuestra funcion\n",
    "def f(x1):\n",
    "    return 1260 + 117*x1 - 9*x1**2\n",
    "\n",
    "#Encontramos el punto critico\n",
    "f1=f(x1) #Definimos la funcion\n",
    "df1=sp.diff(f1,x1) #La derivamos\n",
    "pc1=sp.solve(df1,x1)[0] #La resolvemos, recordando especificar la posicion del resultado\n",
    "\n",
    "#Graficamos\n",
    "plt.figure() #Creamos la figura\n",
    "\n",
    "#Definimos un rango\n",
    "xn1=np.linspace(start=-800,\n",
    "               stop=800,\n",
    "               num=100)\n",
    "\n",
    "yn1=f(xn1) #\"Hacemos\" la funcion\n",
    "\n",
    "plt.plot(xn1,yn1) #Hacemos la gráfica\n",
    "plt.plot #Mostramos la gráfica\n",
    "\n",
    "#Evaluamos el punto critico\n",
    "plt.plot(pc1,f(pc1),\"*\",ms=10)\n"
   ]
  },
  {
   "cell_type": "markdown",
   "metadata": {},
   "source": [
    "Por lo tanto se trata de un máximo global"
   ]
  },
  {
   "cell_type": "markdown",
   "metadata": {},
   "source": [
    "## Criterio de la segunda derivada"
   ]
  },
  {
   "cell_type": "code",
   "execution_count": 42,
   "metadata": {
    "scrolled": true
   },
   "outputs": [
    {
     "name": "stdout",
     "output_type": "stream",
     "text": [
      "Es un máximo\n"
     ]
    }
   ],
   "source": [
    "#Criterio de la segunda derivada\n",
    "ddf1=sp.diff(f1,x1,2) #La derivamos\n",
    "c1=ddf1.subs(x1,pc1)\n",
    "if c1>0:\n",
    "    print(\"Es un minimo\")\n",
    "elif c1<0:\n",
    "    print(\"Es un máximo\")\n",
    "else:\n",
    "    print(\"No es determinante\")"
   ]
  },
  {
   "cell_type": "markdown",
   "metadata": {},
   "source": [
    "$f(x)=5+x+\\frac{4}{x}$, para $x>0$"
   ]
  },
  {
   "cell_type": "markdown",
   "metadata": {},
   "source": [
    "## Grafica"
   ]
  },
  {
   "cell_type": "code",
   "execution_count": 64,
   "metadata": {
    "scrolled": true
   },
   "outputs": [
    {
     "data": {
      "text/plain": [
       "[<matplotlib.lines.Line2D at 0x1f59bf65460>]"
      ]
     },
     "execution_count": 64,
     "metadata": {},
     "output_type": "execute_result"
    },
    {
     "data": {
      "image/png": "[encoded data removed]",
      "text/plain": [
       "<Figure size 432x288 with 1 Axes>"
      ]
     },
     "metadata": {
      "needs_background": "light"
     },
     "output_type": "display_data"
    }
   ],
   "source": [
    "#Declaramos variables\n",
    "x2=sp.var(\"x\")\n",
    "\n",
    "#Definimos nuestra funcion\n",
    "def f(x2):\n",
    "    return 5 + x2 + 4/x2\n",
    "\n",
    "#Encontramos el punto critico\n",
    "f2=f(x2) #Definimos la funcion\n",
    "df2=sp.diff(f2,x2) #La derivamos\n",
    "pc2=sp.solve(df2,x2)[0] #La resolvemos, recordando especificar la posicion del resultado\n",
    "\n",
    "#Graficamos\n",
    "plt.figure() #Creamos la figura\n",
    "\n",
    "#Definimos un rango\n",
    "xn2=np.linspace(start=1,\n",
    "               stop=800,\n",
    "               num=100)\n",
    "\n",
    "yn2=f(xn2) #\"Hacemos\" la funcion\n",
    "\n",
    "plt.plot(xn2,yn2) #Hacemos la gráfica\n",
    "plt.plot #Mostramos la gráfica\n",
    "\n",
    "#Evaluamos el punto critico\n",
    "plt.plot(pc2,f(pc2),\"*\",ms=10)\n"
   ]
  },
  {
   "cell_type": "markdown",
   "metadata": {},
   "source": [
    "Por lo tanto es un minimo global"
   ]
  },
  {
   "cell_type": "markdown",
   "metadata": {},
   "source": [
    "## Criterio de la segunda derivada"
   ]
  },
  {
   "cell_type": "code",
   "execution_count": 43,
   "metadata": {},
   "outputs": [
    {
     "name": "stdout",
     "output_type": "stream",
     "text": [
      "Es un máximo\n"
     ]
    }
   ],
   "source": [
    "#Criterio de la segunda derivada\n",
    "ddf2=sp.diff(f2,x2,2) #La derivamos\n",
    "c2=ddf2.subs(x2,pc2)\n",
    "if c2>0:\n",
    "    print(\"Es un minimo\")\n",
    "elif c2<0:\n",
    "    print(\"Es un máximo\")\n",
    "else:\n",
    "    print(\"No es determinante\")"
   ]
  },
  {
   "cell_type": "markdown",
   "metadata": {},
   "source": [
    "$f(x)=6-2x+\\sqrt{18-2x^2}$, para $-3\\leq x\\leq 3$"
   ]
  },
  {
   "cell_type": "markdown",
   "metadata": {},
   "source": [
    "## Graficamos"
   ]
  },
  {
   "cell_type": "code",
   "execution_count": 61,
   "metadata": {},
   "outputs": [
    {
     "data": {
      "text/plain": [
       "[<matplotlib.lines.Line2D at 0x1f59bd71d30>]"
      ]
     },
     "execution_count": 61,
     "metadata": {},
     "output_type": "execute_result"
    },
    {
     "data": {
      "image/png": "[encoded data removed]",
      "text/plain": [
       "<Figure size 432x288 with 1 Axes>"
      ]
     },
     "metadata": {
      "needs_background": "light"
     },
     "output_type": "display_data"
    }
   ],
   "source": [
    "#Declaramos variables\n",
    "x3=sp.var(\"x\")\n",
    "\n",
    "#Definimos nuestra funcion\n",
    "def f(x3):\n",
    "    return 6 - 2*x3 + (18-2*x3**2)**0.5\n",
    "\n",
    "#Encontramos el punto critico\n",
    "f3=f(x3) #Definimos la funcion\n",
    "df3=sp.diff(f3,x3) #La derivamos\n",
    "pc3=sp.solve(df3,x3)[0] #La resolvemos, recordando especificar la posicion del resultado\n",
    "\n",
    "#Graficamos\n",
    "plt.figure() #Creamos la figura\n",
    "\n",
    "#Definimos un rango\n",
    "xn3=np.linspace(start=-3,\n",
    "               stop=3,\n",
    "               num=100)\n",
    "\n",
    "yn3=f(xn3) #\"Hacemos\" la funcion\n",
    "\n",
    "plt.plot(xn3,yn3) #Hacemos la gráfica\n",
    "plt.plot #Mostramos la gráfica\n",
    "\n",
    "#Evaluamos el punto critico\n",
    "plt.plot(pc3,f(pc3),\"*\",ms=10)"
   ]
  },
  {
   "cell_type": "markdown",
   "metadata": {},
   "source": [
    "Por lo tanto es un maximo global"
   ]
  },
  {
   "cell_type": "markdown",
   "metadata": {},
   "source": [
    "## Criterio de la segunda derivada"
   ]
  },
  {
   "cell_type": "code",
   "execution_count": 44,
   "metadata": {},
   "outputs": [
    {
     "name": "stdout",
     "output_type": "stream",
     "text": [
      "Es un máximo\n"
     ]
    }
   ],
   "source": [
    "#Criterio de la segunda derivada\n",
    "ddf3=sp.diff(f3,x3,2) #La derivamos\n",
    "c3=ddf3.subs(x3,pc3)\n",
    "if c3>0:\n",
    "    print(\"Es un minimo\")\n",
    "elif c3<0:\n",
    "    print(\"Es un máximo\")\n",
    "else:\n",
    "    print(\"No es determinante\")"
   ]
  },
  {
   "cell_type": "markdown",
   "metadata": {},
   "source": [
    "$f(x)=\\frac{1}{4}x^4+\\frac{1}{3}x^3-x^2$ en el intervalo $[-3,1.7]$"
   ]
  },
  {
   "cell_type": "markdown",
   "metadata": {},
   "source": [
    "## Graficamos"
   ]
  },
  {
   "cell_type": "code",
   "execution_count": 60,
   "metadata": {},
   "outputs": [
    {
     "data": {
      "image/png": "[encoded data removed]",
      "text/plain": [
       "<Figure size 432x288 with 1 Axes>"
      ]
     },
     "metadata": {
      "needs_background": "light"
     },
     "output_type": "display_data"
    }
   ],
   "source": [
    "#Declaramos variables\n",
    "x4=sp.var(\"x\")\n",
    "\n",
    "#Definimos nuestra funcion\n",
    "def f(x4):\n",
    "    return (x4**4)/4 +(x4**3)/3 - x4**2\n",
    "\n",
    "#Encontramos el punto critico\n",
    "f4=f(x4) #Definimos la funcion\n",
    "df4=sp.diff(f4,x4) #La derivamos\n",
    "pc4=sp.solve(df4,x4) #La resolvemos, recordando especificar la posicion del resultado\n",
    "\n",
    "#Graficamos\n",
    "plt.figure() #Creamos la figura\n",
    "\n",
    "#Definimos un rango\n",
    "xn4=np.linspace(start=-3,\n",
    "               stop=1.7,\n",
    "               num=100)\n",
    "\n",
    "yn4=f(xn4) #\"Hacemos\" la funcion\n",
    "\n",
    "plt.plot(xn4,yn4) #Hacemos la gráfica\n",
    "plt.plot #Mostramos la gráfica\n",
    "\n",
    "#Evaluamos el punto critico\n",
    "for i in range(len(pc4)):\n",
    "    plt.plot(pc4[i],f(pc4[i]),\"*\",ms=10)\n",
    "    \n"
   ]
  },
  {
   "cell_type": "markdown",
   "metadata": {},
   "source": [
    "Por lo tanto es un minimo global, un maximo local y un minimo local"
   ]
  },
  {
   "cell_type": "markdown",
   "metadata": {},
   "source": [
    "## Criterio de la segunda derivada"
   ]
  },
  {
   "cell_type": "code",
   "execution_count": 50,
   "metadata": {},
   "outputs": [
    {
     "name": "stdout",
     "output_type": "stream",
     "text": [
      "Es un minimo\n",
      "Es un máximo\n",
      "Es un minimo\n"
     ]
    }
   ],
   "source": [
    "#Criterio de la segunda derivada\n",
    "ddf4=sp.diff(f4,x4,2) #La derivamos\n",
    "c4=ddf4.subs(x4,pc4)\n",
    "for i in range(len(pc4)):\n",
    "    c4=ddf4.subs(x4,pc4[i])\n",
    "    if c4>0:\n",
    "        print(\"Es un minimo\")\n",
    "    elif c4<0:\n",
    "        print(\"Es un máximo\")\n",
    "    else:\n",
    "        print(\"No es determinante\")"
   ]
  },
  {
   "cell_type": "markdown",
   "metadata": {},
   "source": [
    "---\n",
    "**Resuelva los siguientes problemas usando la librería `SymPy`. Use celdas en `Markdown` para explicar su procedimiento.**"
   ]
  },
  {
   "cell_type": "markdown",
   "metadata": {},
   "source": [
    "El perímetro de un triángulo isósceles es de $10 cm$. ¿Cuánto deben medir sus lados para que el volumen del cuerpo generado por la rotación del triángulo en torno a su base sea el mayor posible? (Volumen de un cono $= \\frac{1}{3}\\pi r^2 h$, donde $r$ es el radio de la base y $h$ la altura del cono)."
   ]
  },
  {
   "cell_type": "markdown",
   "metadata": {},
   "source": [
    "Siendo _x_ la longitud de la base del triangulo y _y_ la del otro "
   ]
  },
  {
   "cell_type": "markdown",
   "metadata": {},
   "source": [
    "Declaramos las variables y constantes"
   ]
  },
  {
   "cell_type": "code",
   "execution_count": 110,
   "metadata": {
    "scrolled": true
   },
   "outputs": [],
   "source": [
    "xs1=sp.var(\"x\")\n",
    "\n",
    "Perimetro1=10"
   ]
  },
  {
   "cell_type": "markdown",
   "metadata": {},
   "source": [
    "Definimos nuestra funcion"
   ]
  },
  {
   "cell_type": "code",
   "execution_count": 111,
   "metadata": {},
   "outputs": [],
   "source": [
    "def f(x):\n",
    "    y=(Perimetro1-x)/2 #Despeje de y haciendo uso del perimetro  \n",
    "    r=x/2 \n",
    "    h=(y**2-(r)**2)**0.5 #Despeje de h usando trigonometria\n",
    "    return (np.pi/3)*(r**2)*h"
   ]
  },
  {
   "cell_type": "markdown",
   "metadata": {},
   "source": [
    "Encontramos el punto critico"
   ]
  },
  {
   "cell_type": "code",
   "execution_count": 112,
   "metadata": {},
   "outputs": [],
   "source": [
    "fs1=f(xs1) #Definimos la funcion\n",
    "dfs1=sp.diff(fs1,xs1) #La derivamos\n",
    "pcs1=sp.solve(dfs1,xs1) #La resolvemos, recordando especificar la posicion del resultado"
   ]
  },
  {
   "cell_type": "markdown",
   "metadata": {},
   "source": [
    "Graficamos"
   ]
  },
  {
   "cell_type": "code",
   "execution_count": 113,
   "metadata": {},
   "outputs": [
    {
     "data": {
      "image/png": "[encoded data removed]",
      "text/plain": [
       "<Figure size 432x288 with 1 Axes>"
      ]
     },
     "metadata": {
      "needs_background": "light"
     },
     "output_type": "display_data"
    }
   ],
   "source": [
    "plt.figure() #Creamos la figura\n",
    "\n",
    "#Definimos un rango\n",
    "xns1=np.linspace(start=0,\n",
    "               stop=5,\n",
    "               num=10) #Debido a que en la funcion tenemos una raiz debemos tener cuidado con el numero en que termina xns1\n",
    "\n",
    "yns1=f(xns1) #\"Hacemos\" la funcion\n",
    "\n",
    "plt.plot(xns1,yns1) #Hacemos la gráfica\n",
    "plt.plot #Mostramos la gráfica\n",
    "\n",
    "#Evaluamos el punto critico\n",
    "for i in range(len(pcs1)):\n",
    "    if pcs1[i]>0: #Condicion para evitar que nos marque 0\n",
    "        plt.plot(pcs1[i],f(pcs1[i]),\"*\",ms=10)"
   ]
  },
  {
   "cell_type": "markdown",
   "metadata": {},
   "source": [
    "Con esta grafica podemos comprobar que el valor critico de x es 4, sabiendo cuando vale ahora podemos obtener y"
   ]
  },
  {
   "cell_type": "code",
   "execution_count": 116,
   "metadata": {},
   "outputs": [
    {
     "data": {
      "text/latex": [
       "$\\displaystyle 3.0$"
      ],
      "text/plain": [
       "3.00000000000000"
      ]
     },
     "execution_count": 116,
     "metadata": {},
     "output_type": "execute_result"
    }
   ],
   "source": [
    "y1=(Perimetro1-pcs1[i])/2\n",
    "y1"
   ]
  },
  {
   "cell_type": "markdown",
   "metadata": {},
   "source": [
    "Por lo que podemos decir que, para que el área del triángulo isosoceles con perimetro=10 sea máximo la base debe valer 4 y los dos lados iguales 3"
   ]
  },
  {
   "cell_type": "markdown",
   "metadata": {},
   "source": [
    "Disponemos de una barra de aluminio de 6 metros para construir una portería de fútbol. Si queremos que el área de la portería sea máxima, ¿cuánto deben medir los postes y el travesaño?"
   ]
  },
  {
   "cell_type": "markdown",
   "metadata": {},
   "source": [
    "Siendo _x_ la base de la porteria y _y_ su altura"
   ]
  },
  {
   "cell_type": "markdown",
   "metadata": {},
   "source": [
    "Declaramos las variables y constantes "
   ]
  },
  {
   "cell_type": "code",
   "execution_count": 118,
   "metadata": {},
   "outputs": [],
   "source": [
    "#Declaramos variables\n",
    "xs2=sp.var(\"x\")\n",
    "\n",
    "Perimetro2=6"
   ]
  },
  {
   "cell_type": "markdown",
   "metadata": {},
   "source": [
    "Definimos nuestra funcion"
   ]
  },
  {
   "cell_type": "code",
   "execution_count": 119,
   "metadata": {},
   "outputs": [],
   "source": [
    "def f(x):\n",
    "    y=(Perimetro2-x)/2 #Despeje de y haciendo uso del perimetro  \n",
    "    return x*y"
   ]
  },
  {
   "cell_type": "markdown",
   "metadata": {},
   "source": [
    "Encontramos el punto critico"
   ]
  },
  {
   "cell_type": "code",
   "execution_count": 120,
   "metadata": {},
   "outputs": [],
   "source": [
    "fs2=f(xs2) #Definimos la funcion\n",
    "dfs2=sp.diff(fs2,xs2) #La derivamos\n",
    "pcs2=sp.solve(dfs2,xs2) #La resolvemos, recordando especificar la posicion del resultado"
   ]
  },
  {
   "cell_type": "markdown",
   "metadata": {},
   "source": [
    "Graficamos"
   ]
  },
  {
   "cell_type": "code",
   "execution_count": 126,
   "metadata": {},
   "outputs": [
    {
     "data": {
      "image/png": "[encoded data removed]",
      "text/plain": [
       "<Figure size 432x288 with 1 Axes>"
      ]
     },
     "metadata": {
      "needs_background": "light"
     },
     "output_type": "display_data"
    }
   ],
   "source": [
    "plt.figure() #Creamos la figura\n",
    "\n",
    "#Definimos un rango\n",
    "xns2=np.linspace(start=-5,\n",
    "               stop=10,\n",
    "               num=100) #Debido a que en la funcion tenemos una raiz debemos tener cuidado con el numero en que termina xns1\n",
    "\n",
    "yns2=f(xns2) #\"Hacemos\" la funcion\n",
    "\n",
    "plt.plot(xns2,yns2) #Hacemos la gráfica\n",
    "plt.plot #Mostramos la gráfica\n",
    "\n",
    "#Evaluamos el punto critico\n",
    "for i in range(len(pcs2)):\n",
    "    if pcs2[i]>0: #Condicion para evitar que nos marque 0\n",
    "        plt.plot(pcs2[i],f(pcs2[i]),\"*\",ms=10)"
   ]
  },
  {
   "cell_type": "markdown",
   "metadata": {},
   "source": [
    "Con esta grafica podemos comprobar que el valor critico de x es 3, sabiendo cuando vale ahora podemos obtener y"
   ]
  },
  {
   "cell_type": "code",
   "execution_count": 108,
   "metadata": {},
   "outputs": [
    {
     "data": {
      "text/latex": [
       "$\\displaystyle \\frac{3}{2}$"
      ],
      "text/plain": [
       "3/2"
      ]
     },
     "execution_count": 108,
     "metadata": {},
     "output_type": "execute_result"
    }
   ],
   "source": [
    "y=(Perimetro2-pcs2[i])/2\n",
    "y"
   ]
  },
  {
   "cell_type": "markdown",
   "metadata": {},
   "source": [
    "Por lo que podemos decir que, la máxima área de una porteria que se puede lograr teniendo una barra de 6m necesita unos postes de 1.5m y un travesaño de 3m"
   ]
  }
 ],
 "metadata": {
  "kernelspec": {
   "display_name": "Python 3 (ipykernel)",
   "language": "python",
   "name": "python3"
  },
  "language_info": {
   "codemirror_mode": {
    "name": "ipython",
    "version": 3
   },
   "file_extension": ".py",
   "mimetype": "text/x-python",
   "name": "python",
   "nbconvert_exporter": "python",
   "pygments_lexer": "ipython3",
   "version": "3.9.7"
  }
 },
 "nbformat": 4,
 "nbformat_minor": 2
}
