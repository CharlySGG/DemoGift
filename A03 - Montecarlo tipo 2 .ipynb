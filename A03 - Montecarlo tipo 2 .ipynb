{
 "cells": [
  {
   "cell_type": "code",
   "execution_count": 97,
   "id": "79aa0bec",
   "metadata": {},
   "outputs": [],
   "source": [
    "import numpy as np\n",
    "import pandas as pd"
   ]
  },
  {
   "cell_type": "markdown",
   "id": "4f552191",
   "metadata": {},
   "source": [
    "Definimos nuestra region"
   ]
  },
  {
   "cell_type": "code",
   "execution_count": 98,
   "id": "eaf92121",
   "metadata": {},
   "outputs": [],
   "source": [
    "def region(x,y):\n",
    "    return(4*(2*x-1)**4 + 8*(2*y-1)**8 < 1+2*((2*y-1)**3)*(3*x-2)**2)"
   ]
  },
  {
   "cell_type": "markdown",
   "id": "1b8b84ea",
   "metadata": {},
   "source": [
    "Definimos nuestra funcion montecarlo"
   ]
  },
  {
   "cell_type": "code",
   "execution_count": 99,
   "id": "20edffbd",
   "metadata": {},
   "outputs": [],
   "source": [
    "def montecarlo(region,ax,bx,ay,by,N):\n",
    "    x=np.random.uniform(ax,bx,int(N))\n",
    "    y=np.random.uniform(ay,by,int(N))\n",
    "    B=region(x,y)\n",
    "    AR=(bx - ax)*(by - ay)\n",
    "    return np.mean(B)*AR"
   ]
  },
  {
   "cell_type": "markdown",
   "id": "121aec8d",
   "metadata": {},
   "source": [
    "Hacemos la tabla"
   ]
  },
  {
   "cell_type": "code",
   "execution_count": 100,
   "id": "da9e5215",
   "metadata": {},
   "outputs": [
    {
     "data": {
      "text/html": [
       "<div>\n",
       "<style scoped>\n",
       "    .dataframe tbody tr th:only-of-type {\n",
       "        vertical-align: middle;\n",
       "    }\n",
       "\n",
       "    .dataframe tbody tr th {\n",
       "        vertical-align: top;\n",
       "    }\n",
       "\n",
       "    .dataframe thead th {\n",
       "        text-align: right;\n",
       "    }\n",
       "</style>\n",
       "<table border=\"1\" class=\"dataframe\">\n",
       "  <thead>\n",
       "    <tr style=\"text-align: right;\">\n",
       "      <th></th>\n",
       "      <th>Aproximación</th>\n",
       "    </tr>\n",
       "  </thead>\n",
       "  <tbody>\n",
       "    <tr>\n",
       "      <th>10.0</th>\n",
       "      <td>0.3</td>\n",
       "    </tr>\n",
       "    <tr>\n",
       "      <th>100.0</th>\n",
       "      <td>0.49</td>\n",
       "    </tr>\n",
       "    <tr>\n",
       "      <th>1000.0</th>\n",
       "      <td>0.537</td>\n",
       "    </tr>\n",
       "    <tr>\n",
       "      <th>10000.0</th>\n",
       "      <td>0.5417</td>\n",
       "    </tr>\n",
       "    <tr>\n",
       "      <th>100000.0</th>\n",
       "      <td>0.54792</td>\n",
       "    </tr>\n",
       "  </tbody>\n",
       "</table>\n",
       "</div>"
      ],
      "text/plain": [
       "         Aproximación\n",
       "10.0              0.3\n",
       "100.0            0.49\n",
       "1000.0          0.537\n",
       "10000.0        0.5417\n",
       "100000.0      0.54792"
      ]
     },
     "execution_count": 100,
     "metadata": {},
     "output_type": "execute_result"
    }
   ],
   "source": [
    "N = np.logspace(1, 5, 5) # Genera 5 elementos desde 10^1 hasta 10^5\n",
    "table = pd.DataFrame(columns=[\"Aproximación\"], index=N) #Generamos una tabla\n",
    "for i in N:\n",
    "    table.loc[i, \"Aproximación\"] = montecarlo(region,0,1,0,1,int(i))\n",
    "table"
   ]
  }
 ],
 "metadata": {
  "kernelspec": {
   "display_name": "Python 3",
   "language": "python",
   "name": "python3"
  },
  "language_info": {
   "codemirror_mode": {
    "name": "ipython",
    "version": 3
   },
   "file_extension": ".py",
   "mimetype": "text/x-python",
   "name": "python",
   "nbconvert_exporter": "python",
   "pygments_lexer": "ipython3",
   "version": "3.8.8"
  }
 },
 "nbformat": 4,
 "nbformat_minor": 5
}
