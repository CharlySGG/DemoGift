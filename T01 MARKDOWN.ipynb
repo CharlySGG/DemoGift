{
 "cells": [
  {
   "cell_type": "markdown",
   "id": "eeeeec71",
   "metadata": {},
   "source": [
    "# T01 MARKDOWN\n",
    "\n",
    "## INSTRUCCION\n",
    "\n",
    "1. Instalar Git y crear una cuenta de GitHub.\n",
    "\n",
    "2. Crear un Jupyter Notebook que contenga una presentación personal y una ligera introducción a un tema cualquiera de tu licenciatura. Usar Markdown.\n",
    "\n",
    "3. Subir el Notebook a un repositorio personal que estarás usando durante este semestre.\n",
    "\n",
    "4. Entregar el link al notebook dentro de tu repositorio."
   ]
  },
  {
   "cell_type": "markdown",
   "id": "4f4b4e1a",
   "metadata": {},
   "source": [
    "### Presentacion\n",
    "\n",
    "Mi nombre es _Carlos Barboza Ochoa_, actualmente estudio el 6°semestre de nanotecnologia en el **ITESO**.\n",
    "\n",
    "Es mi primera vez trabajando con estos programas por lo que aun me falta aprender mucho pero espero familiarizarme pronto.\n",
    "\n",
    "### Jupyter Notebook\n",
    "\n",
    "Los \"Markdown\" utilizados en este trabajo fueron\n",
    "\n",
    "- Titulos\n",
    "\n",
    "- Subtitulos\n",
    "\n",
    "- Letras en negrita\n",
    "\n",
    "- Letras en cursiva\n",
    "\n",
    "- Imagenes\n",
    "\n",
    "**Nota**: Por lo visto para hacer que Notebook te reconozca un _markdown_ es necesario dejar un espacio luego de poner la \"sintaxis\" necesaria, ademas para que reconozca dos oraciones como lineas distintas se debe dejar un doble espacio entre ellas. Para \"presentarlo\" se deben picar las teclas _Ctrl + Enter_.\n",
    "\n",
    "**Consejo**: Jupyter Notebook utiliza muchos _shortcuts_ por lo que vale la pena aprovecharlos.\n",
    "\n",
    "<img src=\"https://www.google.com/url?sa=i&url=https%3A%2F%2Fempresas.blogthinkbig.com%2Fpython-para-todos-2-jupyternotebook%2F&psig=AOvVaw1rOtfc_MYrKjm1fKI1S5_F&ust=1643251709481000&source=images&cd=vfe&ved=0CAsQjRxqFwoTCIDpg-ezzvUCFQAAAAAdAAAAABAO\">"
   ]
  }
 ],
 "metadata": {
  "kernelspec": {
   "display_name": "Python 3 (ipykernel)",
   "language": "python",
   "name": "python3"
  },
  "language_info": {
   "codemirror_mode": {
    "name": "ipython",
    "version": 3
   },
   "file_extension": ".py",
   "mimetype": "text/x-python",
   "name": "python",
   "nbconvert_exporter": "python",
   "pygments_lexer": "ipython3",
   "version": "3.9.7"
  }
 },
 "nbformat": 4,
 "nbformat_minor": 5
}
