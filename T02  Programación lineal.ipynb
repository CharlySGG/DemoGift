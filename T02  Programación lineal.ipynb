{
 "cells": [
  {
   "cell_type": "markdown",
   "metadata": {},
   "source": [
    "# Tarea - Programación lineal"
   ]
  },
  {
   "cell_type": "markdown",
   "metadata": {},
   "source": [
    "### Diseño de la Dieta Óptima\n",
    "\n",
    "Se quiere producir comida para gatos de la manera más barata, no obstante se debe también asegurar que se cumplan los datos requeridos de analisis nutricional. Por lo que se quiere variar la cantidad de cada ingrediente para cumplir con los estandares nutricionales. Los requisitos que se tienen es que en $100$ gramos, se deben tener **por lo menos** $8$ gramos de proteína y $6$ gramos de grasa. Así mismo, no se debe tener más de $2$ gramos de fibra y $0.4$ gramos de sal.  \n",
    "\n",
    "Los datos nutricionales se pueden obtener de la siguiente tabla:\n",
    "\n",
    "Ingrediente|Proteína|Grasa|Fibra|Sal\n",
    ":----|----|----|----|----\n",
    "Pollo|  10.0%|08.0%|00.1%|00.2%\n",
    "Carne|  20.0%|10.0%|00.5%|00.5%\n",
    "Cordero|15.0%|11.0%|00.5%|00.7%\n",
    "Arroz|  00.0%|01.0%|10.0%|00.2%\n",
    "Trigo|  04.0%|01.0%|15.0%|00.8%\n",
    "Gel|    00.0%|00.0%|00.0%|00.0%\n",
    "\n",
    "Los costos de cada producto son:\n",
    "\n",
    "Ingrediente|Costo por gramo\n",
    ":----|----\n",
    "Pollo|$\\$$0.013\n",
    "Carne|$\\$$0.008\n",
    "Cordero|$\\$$0.010\n",
    "Arroz|$\\$$0.002\n",
    "Trigo|$\\$$0.005\n",
    "Gel|$\\$$0.001    \n",
    "\n",
    "Lo que se busca optimizar en este caso es la cantidad de productos que se debe utilizar en la comida de gato, minimizando el costo total. Para simplificar la notación use las siguientes variables: \n",
    "\n",
    "+ $x_1:$ Gramos de pollo  \n",
    "+ $x_2:$ Gramos de carne  \n",
    "+ $x_3:$ Gramos de cordero  \n",
    "+ $x_4:$ Gramos de arroz  \n",
    "+ $x_5:$ Gramos de trigo  \n",
    "+ $x_6:$ Gramos de gel\n",
    "\n",
    "La tarea consiste en plantear el problemade programación lineal que permita satisfacer las necesidades alimenticias del gato al tiempo que minimice el costo total y resolverlo con `linprog`."
   ]
  },
  {
   "cell_type": "markdown",
   "metadata": {},
   "source": [
    "Se desea minimizar el costo total, este viene dado por la siguiente funcion\n",
    "\n",
    "\n",
    "$ min 0.013x_{1} + 0.008 x_{2} + 0.01 x_{3} + 0.002 x_{4} + 0.005 x_{5} + 0.001 x_{6}  $"
   ]
  },
  {
   "cell_type": "markdown",
   "metadata": {},
   "source": [
    "Teniendo en cuenta las siguientes restricciones\n",
    "- En 100g de compuesto: $ x_{1} + x_{2} + x_{3} + x_{4} + x_{5} + x_{6} = 100  $ \n",
    "- Restriccion de la cantidad de proteina:  $ 0.1x_{1} + 0.2 x_{2} + 0.15 x_{3} +  + 0.04 x_{5} \\leq 8  $\n",
    "- Restriccion de la cantidad de grasa: $ 0.08x_{1} + 0.1 x_{2} + 0.11 x_{3} + 0.01 x_{4} + 0.01 x_{5} \\leq 6  $\n",
    "- Restriccion de la cantidad de fibra: $ 0.001x_{1} + 0.005 x_{2} + 0.005 x_{3} + 0.1 x_{4} + 0.15 x_{5} \\leq 2  $\n",
    "- Restriccion de la cantidad de sal: $ 0.002x_{1} + 0.005 x_{2} + 0.007 x_{3} + 0.002 x_{4} + 0.008 x_{5} \\leq 0.4  $"
   ]
  },
  {
   "cell_type": "markdown",
   "metadata": {},
   "source": [
    "Con ayuda de esto nos es posible plantear nuestras matrices"
   ]
  },
  {
   "cell_type": "code",
   "execution_count": 2,
   "metadata": {},
   "outputs": [
    {
     "data": {
      "text/plain": [
       "     con: array([], dtype=float64)\n",
       "     fun: -1.0321100912861056\n",
       " message: 'Optimization terminated successfully.'\n",
       "     nit: 9\n",
       "   slack: array([6.39169002e-08, 1.46788991e-01, 3.62028629e-10, 5.33975486e-09,\n",
       "       1.50458716e-01])\n",
       "  status: 0\n",
       " success: True\n",
       "       x: array([7.33944954e+01, 1.27319890e-08, 1.93806256e-08, 7.56475991e-10,\n",
       "       1.28440367e+01, 1.37614679e+01])"
      ]
     },
     "execution_count": 2,
     "metadata": {},
     "output_type": "execute_result"
    }
   ],
   "source": [
    "import numpy as np\n",
    "import scipy.optimize as opt #Libreria para optimizar\n",
    "\n",
    "c=np.array([-0.013,-0.008,-0.01,-0.002,-0.005,-0.001]) #Matriz a minimizar\n",
    "a=np.array([[1,1,1,1,1,1],\n",
    "            [0.1,0.2,0.15,0,0.04,0],\n",
    "            [0.08,0.1,0.11,0.001,0.01,0],\n",
    "            [0.001,0.005,0.005,0.1,0.15,0],\n",
    "            [0.002,0.005,0.007,0.002,0.008,0]]) #Matriz de coeficientes\n",
    "\n",
    "b=np.array([100,8,6,2,0.4]) # Matriz de resultados\n",
    "\n",
    "opt.linprog(c,a,b)"
   ]
  },
  {
   "cell_type": "markdown",
   "metadata": {},
   "source": [
    "Ya con las cantidades optimizadas provemos la primera restriccion, la suma de todas debe dar 100g"
   ]
  },
  {
   "cell_type": "code",
   "execution_count": 5,
   "metadata": {},
   "outputs": [
    {
     "data": {
      "text/plain": [
       "100.00000003286908"
      ]
     },
     "execution_count": 5,
     "metadata": {},
     "output_type": "execute_result"
    }
   ],
   "source": [
    "7.33944954e+01 + 1.27319890e-08 + 1.93806256e-08 + 7.56475991e-10 + 1.28440367e+01 + 1.37614679e+01"
   ]
  },
  {
   "cell_type": "markdown",
   "metadata": {},
   "source": [
    "Como podemos notar la primera restriccion se cumple por lo que consideraremos estas cantidades como correctas"
   ]
  },
  {
   "cell_type": "markdown",
   "metadata": {},
   "source": [
    "### Problema de distribución de energía eléctrica\n",
    "\n",
    "La Comisión Federal de Electricidad **(CFE)** dispone de tres plantas de generación para satisfacer la demanda diaria eléctrica en tres ciudades; Guadalajara, León y Morelia. Las plantas $1$, $2$ y $3$ pueden satisfacer $80$, $40$ y $60$ millones de KW al día respectivamente. Las necesidades de las ciudades de Guadalajara, León y Morelia son de $70$, $40$ y $70$ millones de Kw al día respectivamente. \n",
    "\n",
    "\n",
    "Los costos asociados al envío de suministro energético por cada millón de Kw entre cada planta y cada ciudad son los registrados en la siguiente tabla. \n",
    "\n",
    "-|Guadalajara|León|Morelia\n",
    ":----|----|----|----\n",
    "Planta 1|5|2|7\n",
    "Planta 2|3|6|6\n",
    "Planta 3|6|1|2\n",
    "\n",
    "Y por último, las restricciones del problema, van a estar dadas por las capacidades de oferta y demanda de cada planta (en millones de KW) y cada ciudad.\n",
    "\n",
    "Para simplificar la notación use las siguientes variables:\n",
    "\n",
    "+ $x_1$: Kw (en millones) distribuidos de la Planta 1 a Guadalajara\n",
    "+ $x_2$: Kw (en millones) distribuidos de la Planta 1 a León\n",
    "+ $x_3$: Kw (en millones) distribuidos de la Planta 1 a Morelia\n",
    "+ $x_4$: Kw (en millones) distribuidos de la Planta 2 a Guadalajara\n",
    "+ $x_5$: Kw (en millones) distribuidos de la Planta 2 a León\n",
    "+ $x_6$: Kw (en millones) distribuidos de la Planta 2 a Morelia\n",
    "+ $x_7$: Kw (en millones) distribuidos de la Planta 3 a Guadalajara\n",
    "+ $x_8$: Kw (en millones) distribuidos de la Planta 3 a León\n",
    "+ $x_9$: Kw (en millones) distribuidos de la Planta 3 a Morelia\n",
    "\n",
    "La tarea consiste en plantear el problema de programación lineal que permita satisfacer las necesidades de todas las ciudades al tiempo que minimice los costos asociados a la distribución y resolverlo con `linprog`."
   ]
  },
  {
   "cell_type": "markdown",
   "metadata": {},
   "source": [
    "Se desea minimizar el costo de distribucion total, este viene dado por la siguiente funcion\n",
    "\n",
    "\n",
    "$ min 5x_{1} + 2x_{2} + 7x_{3} +3x_{4} + 6x_{5} + 6x_{6} + 6x_{7} + x_{8} + 2x_{9}  $"
   ]
  },
  {
   "cell_type": "markdown",
   "metadata": {},
   "source": [
    "Teniendo en cuenta las siguientes restricciones\n",
    "- Capacidad de la planta 1: $ x_{1} + x_{2} + x_{3} = 80  $ \n",
    "- Capacidad de la planta 2: $ x_{4} + x_{5} + x_{6} = 40  $ \n",
    "- Capacidad de la planta 3: $ x_{7} + x_{8} + x_{9} = 60  $ \n",
    "- Nececidad de la ciudad de Guadalajara:  $ x_{1} + x_{4} + x_{7} = 70  $\n",
    "- Nececidad de la ciudad de Leon:  $ x_{2} + x_{5} + x_{8} = 40  $\n",
    "- Nececidad de la ciudad de Morelia:  $ x_{3} + x_{6} + x_{9} = 70  $"
   ]
  },
  {
   "cell_type": "markdown",
   "metadata": {},
   "source": [
    "Con ayuda de esto nos es posible plantear nuestras matrices"
   ]
  },
  {
   "cell_type": "code",
   "execution_count": 6,
   "metadata": {},
   "outputs": [
    {
     "data": {
      "text/plain": [
       "     con: array([], dtype=float64)\n",
       "     fun: -1139.9999833291843\n",
       " message: 'Optimization terminated successfully.'\n",
       "     nit: 5\n",
       "   slack: array([1.11711564e-06, 5.43469781e-07, 8.51185170e-07, 9.62152455e-07,\n",
       "       5.70539619e-07, 9.79078521e-07])\n",
       "  status: 0\n",
       " success: True\n",
       "       x: array([9.99999992e+00, 5.08590151e-08, 6.99999989e+01, 3.63125900e-08,\n",
       "       3.99999993e+01, 7.55901445e-08, 5.99999991e+01, 3.39738799e-08,\n",
       "       2.94310809e-08])"
      ]
     },
     "execution_count": 6,
     "metadata": {},
     "output_type": "execute_result"
    }
   ],
   "source": [
    "c2=np.array([-5,-2,-7,-3,-6,-6,-6,-1,-2]) #Matriz a minimizar\n",
    "a2=np.array([[1,1,1,0,0,0,0,0,0],\n",
    "            [0,0,0,1,1,1,0,0,0],\n",
    "            [0,0,0,0,0,0,1,1,1],\n",
    "            [1,0,0,1,0,0,1,0,0],\n",
    "            [0,1,0,0,1,0,0,1,0],\n",
    "            [0,0,1,0,0,1,0,0,1]]) #Matriz de coeficientes\n",
    "\n",
    "b2=np.array([80,40,60,70,40,70]) # Matriz de resultados\n",
    "\n",
    "opt.linprog(c2,a2,b2)"
   ]
  },
  {
   "cell_type": "markdown",
   "metadata": {},
   "source": [
    "Ya con las cantidades optimizadas provemos la primera restriccion"
   ]
  },
  {
   "cell_type": "code",
   "execution_count": 7,
   "metadata": {},
   "outputs": [
    {
     "data": {
      "text/plain": [
       "79.999998870859"
      ]
     },
     "execution_count": 7,
     "metadata": {},
     "output_type": "execute_result"
    }
   ],
   "source": [
    "9.99999992e+00 + 5.08590151e-08 + 6.99999989e+01"
   ]
  },
  {
   "cell_type": "markdown",
   "metadata": {},
   "source": [
    "Probemos tambien la segunda restriccion"
   ]
  },
  {
   "cell_type": "code",
   "execution_count": 8,
   "metadata": {
    "scrolled": true
   },
   "outputs": [
    {
     "data": {
      "text/plain": [
       "39.999999411902735"
      ]
     },
     "execution_count": 8,
     "metadata": {},
     "output_type": "execute_result"
    }
   ],
   "source": [
    "3.63125900e-08 + 3.99999993e+01 + 7.55901445e-08"
   ]
  },
  {
   "cell_type": "markdown",
   "metadata": {},
   "source": [
    "Como podemos notar las primeras dos restriccion se cumplen por lo que consideraremos estas cantidades como correctas"
   ]
  }
 ],
 "metadata": {
  "kernelspec": {
   "display_name": "Python 3 (ipykernel)",
   "language": "python",
   "name": "python3"
  },
  "language_info": {
   "codemirror_mode": {
    "name": "ipython",
    "version": 3
   },
   "file_extension": ".py",
   "mimetype": "text/x-python",
   "name": "python",
   "nbconvert_exporter": "python",
   "pygments_lexer": "ipython3",
   "version": "3.9.7"
  }
 },
 "nbformat": 4,
 "nbformat_minor": 2
}
