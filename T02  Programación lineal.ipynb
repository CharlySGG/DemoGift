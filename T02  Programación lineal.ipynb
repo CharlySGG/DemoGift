{
 "cells": [
  {
   "cell_type": "markdown",
   "metadata": {},
   "source": [
    "# Tarea - Programación lineal"
   ]
  },
  {
   "cell_type": "markdown",
   "metadata": {},
   "source": [
    "### Diseño de la Dieta Óptima\n",
    "\n",
    "Se quiere producir comida para gatos de la manera más barata, no obstante se debe también asegurar que se cumplan los datos requeridos de analisis nutricional. Por lo que se quiere variar la cantidad de cada ingrediente para cumplir con los estandares nutricionales. Los requisitos que se tienen es que en $100$ gramos, se deben tener **por lo menos** $8$ gramos de proteína y $6$ gramos de grasa. Así mismo, no se debe tener más de $2$ gramos de fibra y $0.4$ gramos de sal.  \n",
    "\n",
    "Los datos nutricionales se pueden obtener de la siguiente tabla:\n",
    "\n",
    "Ingrediente|Proteína|Grasa|Fibra|Sal\n",
    ":----|----|----|----|----\n",
    "Pollo|  10.0%|08.0%|00.1%|00.2%\n",
    "Carne|  20.0%|10.0%|00.5%|00.5%\n",
    "Cordero|15.0%|11.0%|00.5%|00.7%\n",
    "Arroz|  00.0%|01.0%|10.0%|00.2%\n",
    "Trigo|  04.0%|01.0%|15.0%|00.8%\n",
    "Gel|    00.0%|00.0%|00.0%|00.0%\n",
    "\n",
    "Los costos de cada producto son:\n",
    "\n",
    "Ingrediente|Costo por gramo\n",
    ":----|----\n",
    "Pollo|$\\$$0.013\n",
    "Carne|$\\$$0.008\n",
    "Cordero|$\\$$0.010\n",
    "Arroz|$\\$$0.002\n",
    "Trigo|$\\$$0.005\n",
    "Gel|$\\$$0.001    \n",
    "\n",
    "Lo que se busca optimizar en este caso es la cantidad de productos que se debe utilizar en la comida de gato, minimizando el costo total. Para simplificar la notación use las siguientes variables: \n",
    "\n",
    "+ $x_1:$ Gramos de pollo  \n",
    "+ $x_2:$ Gramos de carne  \n",
    "+ $x_3:$ Gramos de cordero  \n",
    "+ $x_4:$ Gramos de arroz  \n",
    "+ $x_5:$ Gramos de trigo  \n",
    "+ $x_6:$ Gramos de gel\n",
    "\n",
    "La tarea consiste en plantear el problemade programación lineal que permita satisfacer las necesidades alimenticias del gato al tiempo que minimice el costo total y resolverlo con `linprog`."
   ]
  },
  {
   "cell_type": "markdown",
   "metadata": {},
   "source": [
    "Se desea minimizar el costo total, este viene dado por la siguiente funcion\n",
    "\n",
    "\n",
    "$ min 0.013x_{1} + 0.008 x_{2} + 0.01 x_{3} + 0.002 x_{4} + 0.005 x_{5} + 0.001 x_{6}  $"
   ]
  },
  {
   "cell_type": "markdown",
   "metadata": {},
   "source": [
    "Teniendo en cuenta las siguientes restricciones\n",
    "- En 100g de compuesto: $ x_{1} + x_{2} + x_{3} + x_{4} + x_{5} + x_{6} \\leq 100  $ \n",
    "- Restriccion de la cantidad de proteina:  $ 0.1x_{1} + 0.2 x_{2} + 0.15 x_{3} +  + 0.04 x_{5} \\geq 8  $\n",
    "- Restriccion de la cantidad de grasa: $ 0.08x_{1} + 0.1 x_{2} + 0.11 x_{3} + 0.01 x_{4} + 0.01 x_{5} \\geq 6  $\n",
    "- Restriccion de la cantidad de fibra: $ 0.001x_{1} + 0.005 x_{2} + 0.005 x_{3} + 0.1 x_{4} + 0.15 x_{5} \\leq 2  $\n",
    "- Restriccion de la cantidad de sal: $ 0.002x_{1} + 0.005 x_{2} + 0.007 x_{3} + 0.002 x_{4} + 0.008 x_{5} \\leq 0.4  $"
   ]
  },
  {
   "cell_type": "markdown",
   "metadata": {},
   "source": [
    "Con ayuda de esto nos es posible plantear nuestras matrices"
   ]
  },
  {
   "cell_type": "code",
   "execution_count": 5,
   "metadata": {},
   "outputs": [
    {
     "data": {
      "text/plain": [
       "array([100.,   0.,   0.,   0.,   0.,   0.])"
      ]
     },
     "execution_count": 5,
     "metadata": {},
     "output_type": "execute_result"
    }
   ],
   "source": [
    "import numpy as np\n",
    "import scipy.optimize as opt #Libreria para optimizar\n",
    "\n",
    "c=np.array([-0.013,-0.008,-0.01,-0.002,-0.005,-0.001]) #Matriz a minimizar\n",
    "a=np.array([[1,1,1,1,1,1],\n",
    "            [-0.1,-0.2,-0.15,0,-0.04,0],\n",
    "            [-0.08,-0.1,-0.11,-0.001,-0.01,0],\n",
    "            [0.001,0.005,0.005,0.1,0.15,0],\n",
    "            [0.002,0.005,0.007,0.002,0.008,0]]) #Matriz de coeficientes\n",
    "\n",
    "b=np.array([100,-8,-6,2,0.4]) # Matriz de resultados\n",
    "\n",
    "respuesta1=opt.linprog(c,a,b,method=\"simplex\")\n",
    "respuesta1.x"
   ]
  },
  {
   "cell_type": "markdown",
   "metadata": {},
   "source": [
    "Ya con las cantidades optimizadas provamos las restricciones"
   ]
  },
  {
   "cell_type": "code",
   "execution_count": 3,
   "metadata": {},
   "outputs": [
    {
     "data": {
      "text/plain": [
       "[100.0, -10.0, -8.0, 0.1, 0.2]"
      ]
     },
     "execution_count": 3,
     "metadata": {},
     "output_type": "execute_result"
    }
   ],
   "source": [
    "lista1=[]\n",
    "for i in range (len(a)):\n",
    "    suma=0\n",
    "    for j in range(len(a[i])):\n",
    "        suma+=a[i][j]*respuesta1.x[j]\n",
    "    lista1.append(suma)\n",
    "lista1"
   ]
  },
  {
   "cell_type": "markdown",
   "metadata": {},
   "source": [
    "Aunque algo extraña la ultima, podemos notar las restricciones se cumple por lo que consideraremos estas cantidades como correctas"
   ]
  },
  {
   "cell_type": "markdown",
   "metadata": {},
   "source": [
    "### Problema de distribución de energía eléctrica\n",
    "\n",
    "La Comisión Federal de Electricidad **(CFE)** dispone de tres plantas de generación para satisfacer la demanda diaria eléctrica en tres ciudades; Guadalajara, León y Morelia. Las plantas $1$, $2$ y $3$ pueden satisfacer $80$, $40$ y $60$ millones de KW al día respectivamente. Las necesidades de las ciudades de Guadalajara, León y Morelia son de $70$, $40$ y $70$ millones de Kw al día respectivamente. \n",
    "\n",
    "\n",
    "Los costos asociados al envío de suministro energético por cada millón de Kw entre cada planta y cada ciudad son los registrados en la siguiente tabla. \n",
    "\n",
    "-|Guadalajara|León|Morelia\n",
    ":----|----|----|----\n",
    "Planta 1|5|2|7\n",
    "Planta 2|3|6|6\n",
    "Planta 3|6|1|2\n",
    "\n",
    "Y por último, las restricciones del problema, van a estar dadas por las capacidades de oferta y demanda de cada planta (en millones de KW) y cada ciudad.\n",
    "\n",
    "Para simplificar la notación use las siguientes variables:\n",
    "\n",
    "+ $x_1$: Kw (en millones) distribuidos de la Planta 1 a Guadalajara\n",
    "+ $x_2$: Kw (en millones) distribuidos de la Planta 1 a León\n",
    "+ $x_3$: Kw (en millones) distribuidos de la Planta 1 a Morelia\n",
    "+ $x_4$: Kw (en millones) distribuidos de la Planta 2 a Guadalajara\n",
    "+ $x_5$: Kw (en millones) distribuidos de la Planta 2 a León\n",
    "+ $x_6$: Kw (en millones) distribuidos de la Planta 2 a Morelia\n",
    "+ $x_7$: Kw (en millones) distribuidos de la Planta 3 a Guadalajara\n",
    "+ $x_8$: Kw (en millones) distribuidos de la Planta 3 a León\n",
    "+ $x_9$: Kw (en millones) distribuidos de la Planta 3 a Morelia\n",
    "\n",
    "La tarea consiste en plantear el problema de programación lineal que permita satisfacer las necesidades de todas las ciudades al tiempo que minimice los costos asociados a la distribución y resolverlo con `linprog`."
   ]
  },
  {
   "cell_type": "markdown",
   "metadata": {},
   "source": [
    "Se desea minimizar el costo de distribucion total, este viene dado por la siguiente funcion\n",
    "\n",
    "\n",
    "$ min 5x_{1} + 2x_{2} + 7x_{3} +3x_{4} + 6x_{5} + 6x_{6} + 6x_{7} + x_{8} + 2x_{9}  $"
   ]
  },
  {
   "cell_type": "markdown",
   "metadata": {},
   "source": [
    "Teniendo en cuenta las siguientes restricciones\n",
    "- Capacidad de la planta 1: $ x_{1} + x_{2} + x_{3} \\leq 80  $ \n",
    "- Capacidad de la planta 2: $ x_{4} + x_{5} + x_{6} \\leq 40  $ \n",
    "- Capacidad de la planta 3: $ x_{7} + x_{8} + x_{9} \\leq 60  $ \n",
    "- Nececidad de la ciudad de Guadalajara:  $ x_{1} + x_{4} + x_{7} \\geq 70  $\n",
    "- Nececidad de la ciudad de Leon:  $ x_{2} + x_{5} + x_{8} \\geq 40  $\n",
    "- Nececidad de la ciudad de Morelia:  $ x_{3} + x_{6} + x_{9} \\geq 70  $"
   ]
  },
  {
   "cell_type": "markdown",
   "metadata": {},
   "source": [
    "Con ayuda de esto nos es posible plantear nuestras matrices"
   ]
  },
  {
   "cell_type": "code",
   "execution_count": 6,
   "metadata": {},
   "outputs": [
    {
     "data": {
      "text/plain": [
       "array([30., 40., 10., 40.,  0.,  0.,  0.,  0., 60.])"
      ]
     },
     "execution_count": 6,
     "metadata": {},
     "output_type": "execute_result"
    }
   ],
   "source": [
    "c2=np.array([5,2,7,3,6,6,6,1,2]) #Matriz a minimizar\n",
    "a2=np.array([[1,1,1,0,0,0,0,0,0],\n",
    "            [0,0,0,1,1,1,0,0,0],\n",
    "            [0,0,0,0,0,0,1,1,1],\n",
    "            [-1,0,0,-1,0,0,-1,0,0],\n",
    "            [0,-1,0,0,-1,0,0,-1,0],\n",
    "            [0,0,-1,0,0,-1,0,0,-1]]) #Matriz de coeficientes\n",
    "\n",
    "b2=np.array([80,40,60,-70,-40,-70]) # Matriz de resultados\n",
    "\n",
    "respuesta2=opt.linprog(c2,a2,b2, method=\"simplex\")\n",
    "respuesta2.x"
   ]
  },
  {
   "cell_type": "markdown",
   "metadata": {},
   "source": [
    "Ya con las cantidades optimizadas provemos las restricciones"
   ]
  },
  {
   "cell_type": "code",
   "execution_count": 7,
   "metadata": {
    "scrolled": true
   },
   "outputs": [
    {
     "data": {
      "text/plain": [
       "[80.0, 40.0, 60.0, -70.0, -40.0, -70.0]"
      ]
     },
     "execution_count": 7,
     "metadata": {},
     "output_type": "execute_result"
    }
   ],
   "source": [
    "lista2=[]\n",
    "for i in range (len(a2)):\n",
    "    suma=0\n",
    "    for j in range(len(a2[i])):\n",
    "        suma+=a2[i][j]*respuesta2.x[j]\n",
    "    lista2.append(suma)\n",
    "lista2"
   ]
  },
  {
   "cell_type": "markdown",
   "metadata": {},
   "source": [
    "Como podemos notar las restriccion se cumplen por lo que consideraremos estas cantidades como correctas"
   ]
  },
  {
   "cell_type": "markdown",
   "metadata": {},
   "source": [
    "## Ejercicio en clase - Lunes 14 de febrero"
   ]
  },
  {
   "cell_type": "markdown",
   "metadata": {},
   "source": [
    "El objetivo de este problema es determinar la mejor estrategia de inversión, dados diferentes tipos de bono, la máxima cantidad que puede ser invertida en cada bono, el porcentaje de retorno y los años de madurez. También hay una cantidad fija de dinero disponible ($\\$750,000$). Por lo menos la mitad de este dinero debe ser invertido en bonos con 10 años o más para la madurez. Se puede invertir un máximo del $25\\%$ de esta cantidad en cada bono. Finalmente, hay otra restricción que no permite usar más from IPython.display import YouTubeVideo\n",
    "YouTubeVideo('gukxBus8lOs')de $35\\%$ en bonos de alto riesgo.\n",
    "\n",
    "Existen seis (6) opciones de inversión con las letras correspondientes $A_i$\n",
    "\n",
    "1. $A_1$:(Tasa de retorno=$8.65\\%$; Años para la madurez=11, Riesgo=Bajo)\n",
    "1. $A_2$:(Tasa de retorno=$9.50\\%$; Años para la madurez=10, Riesgo=Alto)\n",
    "1. $A_3$:(Tasa de retorno=$10.00\\%$; Años para la madurez=6, Riesgo=Alto)\n",
    "1. $A_4$:(Tasa de retorno=$8.75\\%$; Años para la madurez=10, Riesgo=Bajo)\n",
    "1. $A_5$:(Tasa de retorno=$9.25\\%$; Años para la madurez=7, Riesgo=Alto)\n",
    "1. $A_6$:(Tasa de retorno=$9.00\\%$; Años para la madurez=13, Riesgo=Bajo)\n",
    "\n",
    "Lo que se quiere entonces es maximizar el retorno que deja la inversión.\n",
    "\n",
    "Este problema puede ser resuelto con programación lineal. Formalmente, puede ser descrito como:\n",
    "\n",
    "$$\\max_{A_1,A_2,...,A_6}\\sum^{6}_{i=1} A_iR_i,$$\n",
    "\n",
    "donde $A_i$ representa la cantidad invertida en la opción, y $R_i$ representa la tasa de retorno respectiva."
   ]
  },
  {
   "cell_type": "markdown",
   "metadata": {},
   "source": [
    "Nuestra funcion a minimizar es\n",
    "$ 0.0865A_{1} + 0.095A_{2} + 0.1A_{3} + 0.0875A_{4} + 0.0925A_{5} + 0.09A_{6} $"
   ]
  },
  {
   "cell_type": "markdown",
   "metadata": {},
   "source": [
    "Ahora planteamos las restricciones\n",
    "- Cantidad máxima de dinero a invertir: $A_{1} + A_{2} + A_{3} +A_{4} + A_{5} + A_{6} \\leq 750000 $\n",
    "- La mitad de este dinero debe ser invertido en bonos con 10 años o más para la madurez: $ A_{1} + A_{2} + A_{4} + A_{6} \\geq 375000 $ #Esta debe ser negativa\n",
    "- Se puede invertir un máximo del $25\\%$ de esta cantidad en cada bono: $  A_{1} \\leq 187500 , A_{2} \\leq 187500 , A_{3} \\leq 187500, A_{4} \\leq 187500, A_{5} \\leq 187500, A_{6} \\leq 187500 $\n",
    "- No permite usar más de $35\\%$ en bonos de alto riesgo: $ A_{2} + A_{3} + A_{5} \\leq 262500 $"
   ]
  },
  {
   "cell_type": "markdown",
   "metadata": {},
   "source": [
    "Con ayuda de estas restricciones planteamos nuestras matrices"
   ]
  },
  {
   "cell_type": "code",
   "execution_count": 1,
   "metadata": {},
   "outputs": [
    {
     "data": {
      "text/plain": [
       "array([112500.,  75000., 187500., 187500.,      0., 187500.])"
      ]
     },
     "execution_count": 1,
     "metadata": {},
     "output_type": "execute_result"
    }
   ],
   "source": [
    "import numpy as np\n",
    "import scipy.optimize as opt #Libreria para optimizar\n",
    "\n",
    "c=np.array([-0.0865,-0.095,-0.1,-0.0875,-0.0925,-0.09]) #Matriz a minimizar\n",
    "a3=np.array([[1,1,1,1,1,1],\n",
    "            [-1,-1,0,-1,0,-1],\n",
    "            [1,0,0,0,0,0],\n",
    "            [0,1,0,0,0,0],\n",
    "            [0,0,1,0,0,0],\n",
    "            [0,0,0,1,0,0],\n",
    "            [0,0,0,0,1,0],\n",
    "            [0,0,0,0,0,1],\n",
    "            [0,1,1,0,1,0]]) #Matriz de coeficientes\n",
    "\n",
    "b=np.array([750000,-375000,187500,187500,187500,187500,187500,187500,262500]) # Matriz de resultados\n",
    "\n",
    "respuesta3=opt.linprog(c,a3,b, method=\"simplex\")\n",
    "respuesta3.x"
   ]
  },
  {
   "cell_type": "markdown",
   "metadata": {},
   "source": [
    "Probamos nuestras restricciones"
   ]
  },
  {
   "cell_type": "code",
   "execution_count": 2,
   "metadata": {},
   "outputs": [
    {
     "data": {
      "text/plain": [
       "[750000.0,\n",
       " -562500.0,\n",
       " 112500.0,\n",
       " 75000.0,\n",
       " 187500.0,\n",
       " 187500.0,\n",
       " 0.0,\n",
       " 187500.0,\n",
       " 262500.0]"
      ]
     },
     "execution_count": 2,
     "metadata": {},
     "output_type": "execute_result"
    }
   ],
   "source": [
    "lista3=[]\n",
    "for i in range (len(a3)):\n",
    "    suma=0\n",
    "    for j in range(len(a3[i])):\n",
    "        suma+=a3[i][j]*respuesta3.x[j]\n",
    "    lista3.append(suma)\n",
    "lista3"
   ]
  },
  {
   "cell_type": "markdown",
   "metadata": {},
   "source": [
    "Podemos notar que si se cumplen por lo que consideraremos estos valores como ciertos"
   ]
  }
 ],
 "metadata": {
  "kernelspec": {
   "display_name": "Python 3",
   "language": "python",
   "name": "python3"
  },
  "language_info": {
   "codemirror_mode": {
    "name": "ipython",
    "version": 3
   },
   "file_extension": ".py",
   "mimetype": "text/x-python",
   "name": "python",
   "nbconvert_exporter": "python",
   "pygments_lexer": "ipython3",
   "version": "3.8.8"
  }
 },
 "nbformat": 4,
 "nbformat_minor": 2
}
