{
 "cells": [
  {
   "cell_type": "markdown",
   "metadata": {},
   "source": [
    "# Tarea - Ajuste de curvas"
   ]
  },
  {
   "cell_type": "code",
   "execution_count": 1,
   "metadata": {},
   "outputs": [],
   "source": [
    "import numpy as np\n",
    "import pandas as pd\n",
    "import matplotlib.pyplot as plt\n",
    "import scipy.optimize as op\n",
    "\n",
    "%matplotlib inline"
   ]
  },
  {
   "cell_type": "markdown",
   "metadata": {},
   "source": [
    "---\n",
    "### Problema 1\n",
    "\n",
    "Los siguientes datos representan el costo en dólares de la electricidad según Western Electricity Coordinating Council desde el 2014 (y su pronóstico para el 2040)\n",
    "\n",
    "Tomado de:\n",
    "https://www.quandl.com/data/EIA/AEO_2016_REF_NO_CPP_PRCE_NA_COMM_NA_ELC_NA_WECCRKS_NCNTPKWH_A-Electricity-End-Use-Prices-Commercial-Western-Electricity-Coordinating-Council-Rockies-No-CPP-AEO2016"
   ]
  },
  {
   "cell_type": "code",
   "execution_count": 2,
   "metadata": {},
   "outputs": [],
   "source": [
    "# Datos extraidos de la página de quandl\n",
    "data = np.array([10.051101,  9.259127,  9.444813,  9.557723,  9.977324, 10.298326,\n",
    "       10.447217, 10.550506, 10.590784, 10.657418, 10.743085, 10.831965,\n",
    "       10.988435, 11.153055, 11.313326, 11.557165, 11.860136, 12.122511,\n",
    "       12.356448, 12.611391, 12.814569, 13.111372, 13.357134, 13.559012,\n",
    "       13.85861 , 14.135924, 14.436149])"
   ]
  },
  {
   "cell_type": "code",
   "execution_count": 3,
   "metadata": {},
   "outputs": [
    {
     "data": {
      "image/png": "[encoded data removed]",
      "text/plain": [
       "<Figure size 432x288 with 1 Axes>"
      ]
     },
     "metadata": {
      "needs_background": "light"
     },
     "output_type": "display_data"
    }
   ],
   "source": [
    "#Generamos nuestras variables\n",
    "x1 = np.linspace(start= 0, \n",
    "                stop= 26, \n",
    "                num=len(data))\n",
    "y1=data\n",
    "\n",
    "#Graficamos los datos \n",
    "plt.figure()\n",
    "plt.scatter(x1,y1, s=5)\n",
    "plt.grid()"
   ]
  },
  {
   "cell_type": "markdown",
   "metadata": {},
   "source": [
    "1. Ajuste estos datos a polinomios de grado 1 hasta 3 (los datos en $x$ corresponden a los años de 2014 a 2040, sin embargo son valores muy grandes para elevarlos a una potencia, use una representación para estos años, por ejemplo $2014 \\rightarrow 0$ y $2040\\rightarrow 26$).\n",
    "\n",
    "2. Muestre las tres curvas ajustadas junto a los datos de los costos en un solo gráfico"
   ]
  },
  {
   "cell_type": "code",
   "execution_count": 4,
   "metadata": {},
   "outputs": [],
   "source": [
    "#Hacemos nuestra funcion de costo para un polinomio de 1°Orden\n",
    "def funcion_costo_1(theta,x,y):\n",
    "    prediccion=theta[0]+theta[1]*x #Polinomio de primer orden\n",
    "    costo=y-prediccion\n",
    "    return np.sum(costo**2)"
   ]
  },
  {
   "cell_type": "code",
   "execution_count": 10,
   "metadata": {},
   "outputs": [
    {
     "data": {
      "text/plain": [
       "      fun: 2.3704889518174257\n",
       " hess_inv: array([[ 0.07010583, -0.00396825],\n",
       "       [-0.00396825,  0.00030525]])\n",
       "      jac: array([4.70876694e-06, 6.79492950e-06])\n",
       "  message: 'Optimization terminated successfully.'\n",
       "     nfev: 15\n",
       "      nit: 3\n",
       "     njev: 5\n",
       "   status: 0\n",
       "  success: True\n",
       "        x: array([9.11567663, 0.18667054])"
      ]
     },
     "execution_count": 10,
     "metadata": {},
     "output_type": "execute_result"
    }
   ],
   "source": [
    "#Valores de theta para el polinomio de 1°Orden\n",
    "theta_inicial_1=np.random.rand(2) #2 por el orden del polinomio\n",
    "\n",
    "sol1=op.minimize(funcion_costo_1,\n",
    "                theta_inicial_1,\n",
    "                args=(x1,y1))\n",
    "\n",
    "sol1"
   ]
  },
  {
   "cell_type": "code",
   "execution_count": 11,
   "metadata": {},
   "outputs": [],
   "source": [
    "#Hacemos nuestra funcion de costo para un polinomio de 2°Orden\n",
    "def funcion_costo_2(theta,x,y):\n",
    "    prediccion=theta[0]+theta[1]*x+theta[2]*x**2 #Polinomio de segundo orden\n",
    "    costo=y-prediccion\n",
    "    return np.sum(costo**2)"
   ]
  },
  {
   "cell_type": "code",
   "execution_count": 12,
   "metadata": {},
   "outputs": [
    {
     "data": {
      "text/plain": [
       "      fun: 0.844384519314251\n",
       " hess_inv: array([[ 1.44348720e-01, -2.17757363e-02,  6.84706092e-04],\n",
       "       [-2.17757363e-02,  4.57740012e-03, -1.64283458e-04],\n",
       "       [ 6.84706092e-04, -1.64283458e-04,  6.31775609e-06]])\n",
       "      jac: array([2.49668956e-05, 4.83147800e-04, 1.02668330e-02])\n",
       "  message: 'Desired error not necessarily achieved due to precision loss.'\n",
       "     nfev: 182\n",
       "      nit: 9\n",
       "     njev: 43\n",
       "   status: 2\n",
       "  success: False\n",
       "        x: array([9.59128656e+00, 7.25241087e-02, 4.39024980e-03])"
      ]
     },
     "execution_count": 12,
     "metadata": {},
     "output_type": "execute_result"
    }
   ],
   "source": [
    "#Valores de theta para el polinomio de 2°Orden\n",
    "theta_inicial_2=np.random.rand(3) #3 por el orden del polinomio\n",
    "\n",
    "sol2=op.minimize(funcion_costo_2,\n",
    "                theta_inicial_2,\n",
    "                args=(x1,y1))\n",
    "\n",
    "sol2"
   ]
  },
  {
   "cell_type": "code",
   "execution_count": 14,
   "metadata": {},
   "outputs": [],
   "source": [
    "#Hacemos nuestra funcion de costo para un polinomio de 3°Orden\n",
    "def funcion_costo_3(theta,x,y):\n",
    "    prediccion=theta[0]+theta[1]*x+theta[2]*x**2+theta[3]*x**3 #Polinomio de tercer orden\n",
    "    costo=y-prediccion\n",
    "    return np.sum(costo**2)"
   ]
  },
  {
   "cell_type": "code",
   "execution_count": 47,
   "metadata": {},
   "outputs": [
    {
     "data": {
      "text/plain": [
       "      fun: 0.840434675862949\n",
       " hess_inv: array([[ 2.27239555e-01, -6.41154291e-02,  4.83488415e-03,\n",
       "        -1.06428267e-04],\n",
       "       [-6.41154291e-02,  2.61882151e-02, -2.28212614e-03,\n",
       "         5.43057057e-05],\n",
       "       [ 4.83488415e-03, -2.28212614e-03,  2.13850646e-04,\n",
       "        -5.32141339e-06],\n",
       "       [-1.06428267e-04,  5.43057057e-05, -5.32141339e-06,\n",
       "         1.36446497e-07]])\n",
       "      jac: array([-7.45058060e-09, -2.98023224e-08, -2.23517418e-07, -7.15255737e-07])\n",
       "  message: 'Optimization terminated successfully.'\n",
       "     nfev: 50\n",
       "      nit: 5\n",
       "     njev: 10\n",
       "   status: 0\n",
       "  success: True\n",
       "        x: array([9.56752299e+00, 8.46495827e-02, 3.20207447e-03, 3.04659680e-05])"
      ]
     },
     "execution_count": 47,
     "metadata": {},
     "output_type": "execute_result"
    }
   ],
   "source": [
    "#Valores de theta para el polinomio de 3°Orden\n",
    "theta_inicial_3=np.random.rand(4) #4 por el orden del polinomio\n",
    "\n",
    "sol3=op.minimize(funcion_costo_3,\n",
    "                theta_inicial_3,\n",
    "                args=(x1,y1))\n",
    "\n",
    "sol3"
   ]
  },
  {
   "cell_type": "code",
   "execution_count": 60,
   "metadata": {},
   "outputs": [
    {
     "data": {
      "image/png": "[encoded data removed]",
      "text/plain": [
       "<Figure size 432x288 with 1 Axes>"
      ]
     },
     "metadata": {
      "needs_background": "light"
     },
     "output_type": "display_data"
    }
   ],
   "source": [
    "#Graficamos los datos originales con la funcion de costo\n",
    "plt.figure()\n",
    "plt.scatter(x1, y1, s=5) #Grafica original\n",
    "plt.plot(x1, sol1.x[0] + sol1.x[1]*x1, \"r\") #Grafica con polinomio 1°Orden\n",
    "plt.plot(x1, sol2.x[0] + sol2.x[1]*x1 + sol2.x[2]*x1**2, \"g\") #Grafica con polinomio 2°Orden\n",
    "plt.plot(x1, sol3.x[0] + sol3.x[1]*x1 + sol3.x[2]*x1**2 + sol3.x[3]*x1**3, \"y\") #Grafica con polinomio 3°Orden\n",
    "plt.grid()"
   ]
  },
  {
   "cell_type": "markdown",
   "metadata": {},
   "source": [
    "El segundo y tercer ajuste (curvas verde y azul) son demaciado similares por lo que se superponen entre ellas."
   ]
  },
  {
   "cell_type": "markdown",
   "metadata": {},
   "source": [
    "---"
   ]
  },
  {
   "cell_type": "markdown",
   "metadata": {},
   "source": [
    "___\n",
    "### Problema 2\n",
    "\n",
    "El archivo `population_data.csv` contiene información histórica anual de México relativa a la población, nacimientos y muertes desde el año 1950 hasta el año 2015. La primer columna corresponde a los años, la segunda a la población, la tercera a los nacimientos y la última a los decesos.\n",
    "\n",
    "Tomado de: https://en.wikipedia.org/wiki/Demographics_of_Mexico.\n",
    "\n",
    "Importe estos datos usando la función `read_csv` del paquete `pandas`\n",
    "\n",
    "1. Usando los años como variable independiente $x$ y la población como variable dependiente $y$, ajustar polinomios de grado 1 hasta grado 3.\n",
    "\n",
    "    * Mostrar en un solo gráfico los datos de población contra los años, y los polinomios ajustados.\n",
    "\n",
    "    * Graficar el error cuadrático acumulado contra el número de términos.\n",
    "\n",
    "2. Repetir el punto 1 usando los nacimientos como variable dependiente $y$. Grafique las curvas ajustadas junto con los datos de nacimientos. Vea en un gráfico el error acumulado."
   ]
  },
  {
   "cell_type": "code",
   "execution_count": 23,
   "metadata": {},
   "outputs": [
    {
     "data": {
      "text/html": [
       "<div>\n",
       "<style scoped>\n",
       "    .dataframe tbody tr th:only-of-type {\n",
       "        vertical-align: middle;\n",
       "    }\n",
       "\n",
       "    .dataframe tbody tr th {\n",
       "        vertical-align: top;\n",
       "    }\n",
       "\n",
       "    .dataframe thead th {\n",
       "        text-align: right;\n",
       "    }\n",
       "</style>\n",
       "<table border=\"1\" class=\"dataframe\">\n",
       "  <thead>\n",
       "    <tr style=\"text-align: right;\">\n",
       "      <th></th>\n",
       "      <th>Year</th>\n",
       "      <th>Poblacion</th>\n",
       "      <th>Nacimientos</th>\n",
       "      <th>Decesos</th>\n",
       "    </tr>\n",
       "  </thead>\n",
       "  <tbody>\n",
       "    <tr>\n",
       "      <th>0</th>\n",
       "      <td>1950</td>\n",
       "      <td>28296</td>\n",
       "      <td>1174947</td>\n",
       "      <td>418430</td>\n",
       "    </tr>\n",
       "    <tr>\n",
       "      <th>1</th>\n",
       "      <td>1951</td>\n",
       "      <td>29110</td>\n",
       "      <td>1183788</td>\n",
       "      <td>458238</td>\n",
       "    </tr>\n",
       "    <tr>\n",
       "      <th>2</th>\n",
       "      <td>1952</td>\n",
       "      <td>29980</td>\n",
       "      <td>1195209</td>\n",
       "      <td>408823</td>\n",
       "    </tr>\n",
       "    <tr>\n",
       "      <th>3</th>\n",
       "      <td>1953</td>\n",
       "      <td>30904</td>\n",
       "      <td>1261775</td>\n",
       "      <td>446127</td>\n",
       "    </tr>\n",
       "    <tr>\n",
       "      <th>4</th>\n",
       "      <td>1954</td>\n",
       "      <td>31880</td>\n",
       "      <td>1339837</td>\n",
       "      <td>378752</td>\n",
       "    </tr>\n",
       "    <tr>\n",
       "      <th>...</th>\n",
       "      <td>...</td>\n",
       "      <td>...</td>\n",
       "      <td>...</td>\n",
       "      <td>...</td>\n",
       "    </tr>\n",
       "    <tr>\n",
       "      <th>61</th>\n",
       "      <td>2011</td>\n",
       "      <td>115683</td>\n",
       "      <td>2586287</td>\n",
       "      <td>590693</td>\n",
       "    </tr>\n",
       "    <tr>\n",
       "      <th>62</th>\n",
       "      <td>2012</td>\n",
       "      <td>117054</td>\n",
       "      <td>2498880</td>\n",
       "      <td>602354</td>\n",
       "    </tr>\n",
       "    <tr>\n",
       "      <th>63</th>\n",
       "      <td>2013</td>\n",
       "      <td>118395</td>\n",
       "      <td>2478889</td>\n",
       "      <td>623599</td>\n",
       "    </tr>\n",
       "    <tr>\n",
       "      <th>64</th>\n",
       "      <td>2014</td>\n",
       "      <td>119713</td>\n",
       "      <td>2463420</td>\n",
       "      <td>633641</td>\n",
       "    </tr>\n",
       "    <tr>\n",
       "      <th>65</th>\n",
       "      <td>2015</td>\n",
       "      <td>121005</td>\n",
       "      <td>2353596</td>\n",
       "      <td>655694</td>\n",
       "    </tr>\n",
       "  </tbody>\n",
       "</table>\n",
       "<p>66 rows × 4 columns</p>\n",
       "</div>"
      ],
      "text/plain": [
       "    Year  Poblacion  Nacimientos  Decesos\n",
       "0   1950      28296      1174947   418430\n",
       "1   1951      29110      1183788   458238\n",
       "2   1952      29980      1195209   408823\n",
       "3   1953      30904      1261775   446127\n",
       "4   1954      31880      1339837   378752\n",
       "..   ...        ...          ...      ...\n",
       "61  2011     115683      2586287   590693\n",
       "62  2012     117054      2498880   602354\n",
       "63  2013     118395      2478889   623599\n",
       "64  2014     119713      2463420   633641\n",
       "65  2015     121005      2353596   655694\n",
       "\n",
       "[66 rows x 4 columns]"
      ]
     },
     "execution_count": 23,
     "metadata": {},
     "output_type": "execute_result"
    }
   ],
   "source": [
    "import pandas as pd\n",
    "\n",
    "data = pd.read_csv(\"C:\\\\Users\\\\nt729506\\\\Downloads\\\\population_data.csv\")\n",
    "data"
   ]
  },
  {
   "cell_type": "code",
   "execution_count": 4,
   "metadata": {},
   "outputs": [
    {
     "data": {
      "image/png": "[encoded data removed]",
      "text/plain": [
       "<Figure size 432x288 with 1 Axes>"
      ]
     },
     "metadata": {
      "needs_background": "light"
     },
     "output_type": "display_data"
    }
   ],
   "source": [
    "# Se muestra la gráfica. Vea como los datos son escalados, esto le ayudará en el cálculo\n",
    "# de la regresión.\n",
    "\n",
    "plt.plot(data.values[:,0],data.values[:,1]/1000,label=data.columns[1]+' en miles')\n",
    "plt.plot(data.values[:,0],data.values[:,2]/10000,'r',label=data.columns[2]+' en decenas de miles')\n",
    "plt.legend(loc=2)\n",
    "plt.xlabel(data.columns[0])\n",
    "plt.grid()"
   ]
  },
  {
   "cell_type": "markdown",
   "metadata": {},
   "source": [
    "---"
   ]
  },
  {
   "cell_type": "code",
   "execution_count": 44,
   "metadata": {},
   "outputs": [
    {
     "data": {
      "image/png": "[encoded data removed]",
      "text/plain": [
       "<Figure size 432x288 with 1 Axes>"
      ]
     },
     "metadata": {
      "needs_background": "light"
     },
     "output_type": "display_data"
    }
   ],
   "source": [
    "#Declaramos varibles\n",
    "x2=data[\"Year\"]-1950\n",
    "y2=data[\"Poblacion\"]\n",
    "\n",
    "#Hacemos la grafica\n",
    "plt.figure()\n",
    "plt.scatter(x2,y2,s=5)\n",
    "plt.xlabel(\"Años\")\n",
    "plt.ylabel(\"Poblacion\")\n",
    "plt.grid()"
   ]
  },
  {
   "cell_type": "code",
   "execution_count": 40,
   "metadata": {},
   "outputs": [
    {
     "data": {
      "text/plain": [
       "      fun: 212137169.55096248\n",
       " hess_inv: array([[ 7.75635548e-02, -1.27893007e-03],\n",
       "       [-1.27893007e-03,  2.45906740e-05]])\n",
       "      jac: array([ 0., 38.])\n",
       "  message: 'Desired error not necessarily achieved due to precision loss.'\n",
       "     nfev: 168\n",
       "      nit: 7\n",
       "     njev: 53\n",
       "   status: 2\n",
       "  success: False\n",
       "        x: array([24138.00324919,  1543.97390078])"
      ]
     },
     "execution_count": 40,
     "metadata": {},
     "output_type": "execute_result"
    }
   ],
   "source": [
    "#Valores de theta para el polinomio de 1°Orden\n",
    "sol21=op.minimize(funcion_costo_1,\n",
    "                theta_inicial_1,\n",
    "                args=(x2,y2))\n",
    "\n",
    "sol21"
   ]
  },
  {
   "cell_type": "code",
   "execution_count": 38,
   "metadata": {},
   "outputs": [
    {
     "data": {
      "text/plain": [
       "      fun: 210941621.44638115\n",
       " hess_inv: array([[ 2.55838682e-02, -1.59298232e-03,  2.04607700e-05],\n",
       "       [-1.59298232e-03,  1.84736659e-04, -2.90662468e-06],\n",
       "       [ 2.04607700e-05, -2.90662468e-06,  4.95948248e-08]])\n",
       "      jac: array([0., 0., 0.])\n",
       "  message: 'Optimization terminated successfully.'\n",
       "     nfev: 72\n",
       "      nit: 10\n",
       "     njev: 18\n",
       "   status: 0\n",
       "  success: True\n",
       "        x: array([2.44255997e+04, 1.51701272e+03, 4.14778311e-01])"
      ]
     },
     "execution_count": 38,
     "metadata": {},
     "output_type": "execute_result"
    }
   ],
   "source": [
    "#Valores de theta para el polinomio de 2°Orden\n",
    "sol22=op.minimize(funcion_costo_2,\n",
    "                theta_inicial_2,\n",
    "                args=(x2,y2))\n",
    "\n",
    "sol22"
   ]
  },
  {
   "cell_type": "code",
   "execution_count": 39,
   "metadata": {},
   "outputs": [
    {
     "data": {
      "text/plain": [
       "      fun: 25240442.637085088\n",
       " hess_inv: array([[ 6.35139453e-04, -6.44904653e-04,  2.84314433e-05,\n",
       "        -2.99940104e-07],\n",
       "       [-6.44904653e-04,  6.71948296e-04, -2.97278937e-05,\n",
       "         3.14267528e-07],\n",
       "       [ 2.84314433e-05, -2.97278937e-05,  1.39368698e-06,\n",
       "        -1.53011830e-08],\n",
       "       [-2.99940104e-07,  3.14267528e-07, -1.53011830e-08,\n",
       "         1.72545396e-10]])\n",
       "      jac: array([ -0.5,  -4.5, -94.5, 235.5])\n",
       "  message: 'Desired error not necessarily achieved due to precision loss.'\n",
       "     nfev: 95\n",
       "      nit: 9\n",
       "     njev: 19\n",
       "   status: 2\n",
       "  success: False\n",
       "        x: array([ 2.84777366e+04,  7.39081425e+02,  3.05647962e+01, -3.09231129e-01])"
      ]
     },
     "execution_count": 39,
     "metadata": {},
     "output_type": "execute_result"
    }
   ],
   "source": [
    "#Valores de theta para el polinomio de 3°Orden\n",
    "sol23=op.minimize(funcion_costo_3,\n",
    "                theta_inicial_3,\n",
    "                args=(x2,y2))\n",
    "\n",
    "sol23"
   ]
  },
  {
   "cell_type": "code",
   "execution_count": 59,
   "metadata": {},
   "outputs": [
    {
     "data": {
      "image/png": "[encoded data removed]",
      "text/plain": [
       "<Figure size 432x288 with 1 Axes>"
      ]
     },
     "metadata": {
      "needs_background": "light"
     },
     "output_type": "display_data"
    }
   ],
   "source": [
    "#Graficamos los datos originales con la funcion de costo\n",
    "plt.figure()\n",
    "plt.scatter(x2, y2, s=5) #Grafica original\n",
    "plt.plot(x2, sol21.x[0] + sol21.x[1]*x2, \"r\") #Grafica con polinomio 1°Orden\n",
    "plt.plot(x2, sol22.x[0] + sol22.x[1]*x2 + sol22.x[2]*x2**2, \"g\") #Grafica con polinomio 2°Orden\n",
    "plt.plot(x2, sol23.x[0] + sol23.x[1]*x2 + sol23.x[2]*x2**2 + sol23.x[3]*x2**3, \"y\") #Grafica con polinomio 2°Orden\n",
    "plt.xlabel(\"Años\")\n",
    "plt.ylabel(\"Poblacion\")\n",
    "plt.grid()"
   ]
  },
  {
   "cell_type": "markdown",
   "metadata": {},
   "source": [
    "Podemos notar que todos los ajustes son muy similares, por lo que es dificil distinguirlos entre si al graficarlos todos al mismo tiempo."
   ]
  },
  {
   "cell_type": "markdown",
   "metadata": {},
   "source": [
    "Ahora graficando el numero de nacimientos"
   ]
  },
  {
   "cell_type": "code",
   "execution_count": 54,
   "metadata": {},
   "outputs": [
    {
     "data": {
      "image/png": "[encoded data removed]",
      "text/plain": [
       "<Figure size 432x288 with 1 Axes>"
      ]
     },
     "metadata": {
      "needs_background": "light"
     },
     "output_type": "display_data"
    }
   ],
   "source": [
    "#Declaramos varibles\n",
    "y3=data[\"Nacimientos\"]\n",
    "\n",
    "#Hacemos la grafica\n",
    "plt.figure()\n",
    "plt.scatter(x2,y3,s=5)\n",
    "plt.xlabel(\"Años\")\n",
    "plt.ylabel(\"Nacimientos\")\n",
    "plt.grid()"
   ]
  },
  {
   "cell_type": "code",
   "execution_count": 46,
   "metadata": {},
   "outputs": [
    {
     "data": {
      "text/plain": [
       "      fun: 4737918895632.477\n",
       " hess_inv: array([[ 3.06803264e-02, -7.02079527e-04],\n",
       "       [-7.02079527e-04,  2.14035735e-05]])\n",
       "      jac: array([0., 0.])\n",
       "  message: 'Optimization terminated successfully.'\n",
       "     nfev: 60\n",
       "      nit: 6\n",
       "     njev: 20\n",
       "   status: 0\n",
       "  success: True\n",
       "        x: array([1563618.55861067,   21962.37143699])"
      ]
     },
     "execution_count": 46,
     "metadata": {},
     "output_type": "execute_result"
    }
   ],
   "source": [
    "#Valores de theta para el polinomio de 1°Orden\n",
    "sol31=op.minimize(funcion_costo_1,\n",
    "                theta_inicial_1,\n",
    "                args=(x2,y3))\n",
    "\n",
    "sol31"
   ]
  },
  {
   "cell_type": "code",
   "execution_count": 49,
   "metadata": {},
   "outputs": [
    {
     "data": {
      "text/plain": [
       "      fun: 492921079005.5322\n",
       " hess_inv: array([[ 6.39281049e-02, -3.90200136e-03,  4.96371752e-05],\n",
       "       [-3.90200136e-03,  3.23570785e-04, -4.65957229e-06],\n",
       "       [ 4.96371752e-05, -4.65957229e-06,  7.17176928e-08]])\n",
       "      jac: array([0., 0., 0.])\n",
       "  message: 'Optimization terminated successfully.'\n",
       "     nfev: 56\n",
       "      nit: 8\n",
       "     njev: 14\n",
       "   status: 0\n",
       "  success: True\n",
       "        x: array([ 1.02104800e+06,  7.27811130e+04, -7.81599597e+02])"
      ]
     },
     "execution_count": 49,
     "metadata": {},
     "output_type": "execute_result"
    }
   ],
   "source": [
    "#Valores de theta para el polinomio de 2°Orden\n",
    "sol32=op.minimize(funcion_costo_2,\n",
    "                theta_inicial_2,\n",
    "                args=(x2,y3))\n",
    "\n",
    "sol32"
   ]
  },
  {
   "cell_type": "code",
   "execution_count": 50,
   "metadata": {},
   "outputs": [
    {
     "data": {
      "text/plain": [
       "      fun: 441782382123.9773\n",
       " hess_inv: array([[ 9.34395450e-02, -1.02246835e-02,  3.05874634e-04,\n",
       "        -2.69286761e-06],\n",
       "       [-1.02246835e-02,  1.65298125e-03, -5.79577613e-05,\n",
       "         5.56549510e-07],\n",
       "       [ 3.05874634e-04, -5.79577613e-05,  2.19836038e-06,\n",
       "        -2.21456821e-08],\n",
       "       [-2.69286761e-06,  5.56549510e-07, -2.21456821e-08,\n",
       "         2.30265992e-10]])\n",
       "      jac: array([      0.,    4096.,   81920., 2822144.])\n",
       "  message: 'Desired error not necessarily achieved due to precision loss.'\n",
       "     nfev: 311\n",
       "      nit: 11\n",
       "     njev: 60\n",
       "   status: 2\n",
       "  success: False\n",
       "        x: array([ 1.08846168e+06,  5.98589231e+04, -2.80985513e+02, -5.13357349e+00])"
      ]
     },
     "execution_count": 50,
     "metadata": {},
     "output_type": "execute_result"
    }
   ],
   "source": [
    "#Valores de theta para el polinomio de 3°Orden\n",
    "sol33=op.minimize(funcion_costo_3,\n",
    "                theta_inicial_3,\n",
    "                args=(x2,y3))\n",
    "\n",
    "sol33"
   ]
  },
  {
   "cell_type": "code",
   "execution_count": 58,
   "metadata": {},
   "outputs": [
    {
     "data": {
      "image/png": "[encoded data removed]",
      "text/plain": [
       "<Figure size 432x288 with 1 Axes>"
      ]
     },
     "metadata": {
      "needs_background": "light"
     },
     "output_type": "display_data"
    }
   ],
   "source": [
    "#Graficamos los datos originales con la funcion de costo\n",
    "plt.figure()\n",
    "plt.scatter(x2, y3, s=5) #Grafica original\n",
    "plt.plot(x2, sol31.x[0] + sol31.x[1]*x2, \"r\") #Grafica con polinomio 1°Orden\n",
    "plt.plot(x2, sol32.x[0] + sol32.x[1]*x2 + sol32.x[2]*x2**2, \"g\") #Grafica con polinomio 2°Orden\n",
    "plt.plot(x2, sol33.x[0] + sol33.x[1]*x2 + sol33.x[2]*x2**2 + sol33.x[3]*x2**3, \"y\") #Grafica con polinomio 3°Orden\n",
    "plt.xlabel(\"Años\")\n",
    "plt.ylabel(\"Nacimientos\")\n",
    "plt.grid()"
   ]
  },
  {
   "cell_type": "markdown",
   "metadata": {},
   "source": [
    "En esta gráfica nos es mas facil diferenciar entre los diferentes polinomios, podemos notar que el ajuste con el polinomio de 2° y 3° Orden son muy parecidos mientras que el de 1° no muy apropiado para representar los datos."
   ]
  }
 ],
 "metadata": {
  "kernelspec": {
   "display_name": "Python 3",
   "language": "python",
   "name": "python3"
  },
  "language_info": {
   "codemirror_mode": {
    "name": "ipython",
    "version": 3
   },
   "file_extension": ".py",
   "mimetype": "text/x-python",
   "name": "python",
   "nbconvert_exporter": "python",
   "pygments_lexer": "ipython3",
   "version": "3.8.8"
  }
 },
 "nbformat": 4,
 "nbformat_minor": 2
}
